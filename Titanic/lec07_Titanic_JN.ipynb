{
 "cells": [
  {
   "cell_type": "markdown",
   "id": "electrical-cassette",
   "metadata": {},
   "source": [
    "## 분석절차\n",
    "1. EDA \n",
    "  - target 피쳐 확인/분리\n",
    "  - info(), shape, head() - dataframe 타입별(수치형/object) \n",
    "\n",
    "2. 결측치 확인(1.삭제 2.대체값 3.예측)\n",
    "  - 결측값 대체(수치형:평균 / Object형:'None')\n",
    "  - 확인방법 : Boxplot, hist, IQR\n",
    "  \n",
    "3. 차트 그리기 준비 작업\n",
    "  - Object형 시각화 --> 필요 시 수치형으로 변환\n",
    "  - unique ID 피쳐 삭제\n",
    "  \n",
    "4. 불피요한 피쳐 삭제\n",
    "  \n",
    "5. 피쳐 전처리(PreProcessing/Feature Engineering)\n",
    "  - 수치형 피쳐로 변환 (pd.getDummy)\n",
    "  - 원핫인코딩(수치형)\n",
    "  - 스케일/정규화 : StandardScaler MinMaxScaler , RobustScaler\n",
    "  ----------------- 분석하기 좋은 데이터 --------------------\n",
    "  \n",
    "6. 수치형 피쳐 상관분석(1.결측x  2.objectX)\n",
    "  - target(SalePrice)에 영향을 주는 상위 n개 피쳐에 대해서만 상관 분석\n",
    "  - target(SalePrice)에 영향을 주는 상위 n개 피쳐에 대해서만 데이터 분포도(산점도) 확인\n",
    "  - target(SalePrice)에 영향을 주는 상위 n개 피쳐에 대해서만 Boxplot(Outlier) 확인\n",
    "\n",
    "7. 학습모델 선정 / 평가\n",
    "\n",
    "8. 튜닝 / 검증"
   ]
  },
  {
   "cell_type": "markdown",
   "id": "substantial-demographic",
   "metadata": {},
   "source": [
    "--------------------------------------------------"
   ]
  },
  {
   "cell_type": "code",
   "execution_count": 1,
   "id": "twelve-analysis",
   "metadata": {},
   "outputs": [],
   "source": [
    "import pandas as pd\n",
    "import numpy as np\n",
    "import matplotlib.pyplot as plt\n",
    "import seaborn as sns\n",
    "\n",
    "from sklearn.model_selection import train_test_split\n",
    "from sklearn.tree import DecisionTreeClassifier\n",
    "from sklearn.neighbors import KNeighborsClassifier\n",
    "from sklearn.metrics import accuracy_score, f1_score, recall_score, precision_score, roc_auc_score\n",
    "from sklearn.ensemble import RandomForestClassifier\n",
    "\n",
    "#아래 세개 스케일링 다 해보고 선택함\n",
    "from sklearn.preprocessing import StandardScaler \n",
    "from sklearn.preprocessing import MinMaxScaler   \n",
    "from sklearn.preprocessing import RobustScaler  \n",
    "\n",
    "from sklearn.model_selection import KFold\n",
    "from sklearn.model_selection import StratifiedKFold\n",
    "from sklearn.model_selection import cross_val_score\n",
    "from sklearn.model_selection import cross_validate\n",
    "from sklearn.model_selection import GridSearchCV"
   ]
  },
  {
   "cell_type": "markdown",
   "id": "theoretical-designer",
   "metadata": {},
   "source": [
    "### 1.EDA\n",
    "  - info(), shape, head() - dataframe 타입별(수치형/object)\n",
    "  - 차트 : 일변량/이변량/다변량\n",
    "  - Unique 피쳐 삭제"
   ]
  },
  {
   "cell_type": "code",
   "execution_count": 2,
   "id": "pleased-nickel",
   "metadata": {},
   "outputs": [
    {
     "name": "stdout",
     "output_type": "stream",
     "text": [
      "<class 'pandas.core.frame.DataFrame'>\n",
      "RangeIndex: 891 entries, 0 to 890\n",
      "Data columns (total 12 columns):\n",
      " #   Column       Non-Null Count  Dtype  \n",
      "---  ------       --------------  -----  \n",
      " 0   PassengerId  891 non-null    int64  \n",
      " 1   Survived     891 non-null    int64  \n",
      " 2   Pclass       891 non-null    int64  \n",
      " 3   Name         891 non-null    object \n",
      " 4   Sex          891 non-null    object \n",
      " 5   Age          714 non-null    float64\n",
      " 6   SibSp        891 non-null    int64  \n",
      " 7   Parch        891 non-null    int64  \n",
      " 8   Ticket       891 non-null    object \n",
      " 9   Fare         891 non-null    float64\n",
      " 10  Cabin        204 non-null    object \n",
      " 11  Embarked     889 non-null    object \n",
      "dtypes: float64(2), int64(5), object(5)\n",
      "memory usage: 83.7+ KB\n",
      "None\n",
      "(891, 12)\n",
      "   PassengerId  Survived  Pclass  \\\n",
      "0            1         0       3   \n",
      "1            2         1       1   \n",
      "2            3         1       3   \n",
      "3            4         1       1   \n",
      "4            5         0       3   \n",
      "\n",
      "                                                Name     Sex   Age  SibSp  \\\n",
      "0                            Braund, Mr. Owen Harris    male  22.0      1   \n",
      "1  Cumings, Mrs. John Bradley (Florence Briggs Th...  female  38.0      1   \n",
      "2                             Heikkinen, Miss. Laina  female  26.0      0   \n",
      "3       Futrelle, Mrs. Jacques Heath (Lily May Peel)  female  35.0      1   \n",
      "4                           Allen, Mr. William Henry    male  35.0      0   \n",
      "\n",
      "   Parch            Ticket     Fare Cabin Embarked  \n",
      "0      0         A/5 21171   7.2500   NaN        S  \n",
      "1      0          PC 17599  71.2833   C85        C  \n",
      "2      0  STON/O2. 3101282   7.9250   NaN        S  \n",
      "3      0            113803  53.1000  C123        S  \n",
      "4      0            373450   8.0500   NaN        S  \n"
     ]
    }
   ],
   "source": [
    "df = pd.read_csv(\"Titanic.csv\")\n",
    "print(df.info())\n",
    "print(df.shape)\n",
    "print(df.head())"
   ]
  },
  {
   "cell_type": "code",
   "execution_count": 3,
   "id": "fleet-hopkins",
   "metadata": {},
   "outputs": [
    {
     "data": {
      "text/plain": [
       "<AxesSubplot:>"
      ]
     },
     "execution_count": 3,
     "metadata": {},
     "output_type": "execute_result"
    },
    {
     "data": {
      "image/png": "[encoded data removed]",
      "text/plain": [
       "<Figure size 432x288 with 2 Axes>"
      ]
     },
     "metadata": {
      "needs_background": "light"
     },
     "output_type": "display_data"
    }
   ],
   "source": [
    "sns.heatmap(data = df.corr(), annot=True, fmt=\".2f\")\n",
    "#plt.show()"
   ]
  },
  {
   "cell_type": "markdown",
   "id": "demographic-tampa",
   "metadata": {},
   "source": [
    "* Servived(target feature)에 영향을 미치는 피쳐는 Pclass(음의 상관관계), fare(양의 상관관계)이다.\n",
    "* Pclass에 영향을 미치는 피쳐는 Age, Fare이다.\n",
    "* SibSp에 영향을 미치는 피쳐는 Parch이다."
   ]
  },
  {
   "cell_type": "code",
   "execution_count": 5,
   "id": "otherwise-ordinance",
   "metadata": {},
   "outputs": [
    {
     "name": "stdout",
     "output_type": "stream",
     "text": [
      "   PassengerId  Pclass                                               Name  \\\n",
      "0            1       3                            Braund, Mr. Owen Harris   \n",
      "1            2       1  Cumings, Mrs. John Bradley (Florence Briggs Th...   \n",
      "\n",
      "      Sex   Age  SibSp  Parch     Ticket     Fare Cabin Embarked  \n",
      "0    male  22.0      1      0  A/5 21171   7.2500   NaN        S  \n",
      "1  female  38.0      1      0   PC 17599  71.2833   C85        C  \n",
      "0    0\n",
      "1    1\n",
      "Name: Survived, dtype: int64\n"
     ]
    }
   ],
   "source": [
    "X = df.drop(\"Survived\", axis=1)\n",
    "y = df[\"Survived\"] \n",
    "print(X[:2])\n",
    "print(y[:2])"
   ]
  },
  {
   "cell_type": "code",
   "execution_count": 6,
   "id": "downtown-vanilla",
   "metadata": {},
   "outputs": [
    {
     "data": {
      "text/plain": [
       "0    549\n",
       "1    342\n",
       "Name: Survived, dtype: int64"
      ]
     },
     "execution_count": 6,
     "metadata": {},
     "output_type": "execute_result"
    }
   ],
   "source": [
    "y.value_counts()"
   ]
  },
  {
   "cell_type": "code",
   "execution_count": 7,
   "id": "spectacular-delta",
   "metadata": {},
   "outputs": [
    {
     "name": "stdout",
     "output_type": "stream",
     "text": [
      "0    1\n",
      "1    0\n",
      "2    0\n",
      "3    0\n",
      "4    1\n",
      "Name: Sex, dtype: int64\n"
     ]
    }
   ],
   "source": [
    "X['Sex'] = X['Sex'].apply(lambda x : 1 if x =='male' else 0)\n",
    "print(X['Sex'].head())"
   ]
  },
  {
   "cell_type": "code",
   "execution_count": 8,
   "id": "played-authentication",
   "metadata": {},
   "outputs": [
    {
     "name": "stdout",
     "output_type": "stream",
     "text": [
      "0      3\n",
      "1      1\n",
      "2      3\n",
      "3      3\n",
      "4      3\n",
      "      ..\n",
      "886    3\n",
      "887    3\n",
      "888    3\n",
      "889    1\n",
      "890    2\n",
      "Name: Embarked, Length: 891, dtype: int64\n"
     ]
    }
   ],
   "source": [
    "X['Embarked'] = X['Embarked'].apply(lambda x : 1 if x == 'C' else (2 if x == 'Q' else 3 ))\n",
    "print(X['Embarked'])\n",
    "#-> = 선착장 위치는 중요 변수X = 생존과 무관"
   ]
  },
  {
   "cell_type": "markdown",
   "id": "decimal-lying",
   "metadata": {},
   "source": [
    "### 2. 결측처리\n",
    "  - 1.삭제 2.대체값 3.예측\n",
    "  \n",
    "5  Age          714 non-null    float64  \n",
    "10  Cabin        204 non-null    object"
   ]
  },
  {
   "cell_type": "code",
   "execution_count": 9,
   "id": "competitive-default",
   "metadata": {},
   "outputs": [
    {
     "name": "stdout",
     "output_type": "stream",
     "text": [
      "PassengerId      0\n",
      "Pclass           0\n",
      "Name             0\n",
      "Sex              0\n",
      "Age            177\n",
      "SibSp            0\n",
      "Parch            0\n",
      "Ticket           0\n",
      "Fare             0\n",
      "Cabin          687\n",
      "Embarked         0\n",
      "dtype: int64\n"
     ]
    }
   ],
   "source": [
    "print(X.isnull().sum())"
   ]
  },
  {
   "cell_type": "markdown",
   "id": "ancient-directive",
   "metadata": {},
   "source": [
    "* Age와 Cabin을 결측 처리 해야한다."
   ]
  },
  {
   "cell_type": "code",
   "execution_count": 10,
   "id": "going-cambridge",
   "metadata": {},
   "outputs": [
    {
     "name": "stdout",
     "output_type": "stream",
     "text": [
      "{'Capt': 70, 'Col': 58, 'Countess': 33, 'Don': 40, 'Dr': 42, 'Jonkheer': 38, 'Lady': 48, 'Major': 48, 'Master': 4, 'Miss': 21, 'Mlle': 24, 'Mme': 24, 'Mr': 32, 'Mrs': 35, 'Ms': 28, 'Rev': 43, 'Sir': 49}\n",
      "    Name2                                               Name   Age\n",
      "0      Mr                            Braund, Mr. Owen Harris  22.0\n",
      "1     Mrs  Cumings, Mrs. John Bradley (Florence Briggs Th...  38.0\n",
      "2    Miss                             Heikkinen, Miss. Laina  26.0\n",
      "3     Mrs       Futrelle, Mrs. Jacques Heath (Lily May Peel)  35.0\n",
      "4      Mr                           Allen, Mr. William Henry  35.0\n",
      "5      Mr                                   Moran, Mr. James   NaN\n",
      "6      Mr                            McCarthy, Mr. Timothy J  54.0\n",
      "7  Master                     Palsson, Master. Gosta Leonard   2.0\n",
      "8     Mrs  Johnson, Mrs. Oscar W (Elisabeth Vilhelmina Berg)  27.0\n",
      "9     Mrs                Nasser, Mrs. Nicholas (Adele Achem)  14.0\n",
      "    Name2                                               Name   Age\n",
      "0      Mr                            Braund, Mr. Owen Harris  22.0\n",
      "1     Mrs  Cumings, Mrs. John Bradley (Florence Briggs Th...  38.0\n",
      "2    Miss                             Heikkinen, Miss. Laina  26.0\n",
      "3     Mrs       Futrelle, Mrs. Jacques Heath (Lily May Peel)  35.0\n",
      "4      Mr                           Allen, Mr. William Henry  35.0\n",
      "5      Mr                                   Moran, Mr. James  32.0\n",
      "6      Mr                            McCarthy, Mr. Timothy J  54.0\n",
      "7  Master                     Palsson, Master. Gosta Leonard   2.0\n",
      "8     Mrs  Johnson, Mrs. Oscar W (Elisabeth Vilhelmina Berg)  27.0\n",
      "9     Mrs                Nasser, Mrs. Nicholas (Adele Achem)  14.0\n"
     ]
    }
   ],
   "source": [
    "#이름으로 나이 추측하기\n",
    "\n",
    "X[\"Name2\"] = X[\"Name\"].str.extract(\"([A-Za-z]+)\\.\")\n",
    "dict = X.groupby(by=[\"Name2\"])[[\"Name2\",\"Age\"]].mean().astype(np.int32).to_dict()\n",
    "print(dict['Age'])\n",
    "print(X[[\"Name2\",\"Name\",\"Age\"]].head(10))\n",
    "fill_mean_func = lambda gname: gname.fillna(dict['Age'][gname.name])\n",
    "X = X.groupby('Name2').apply(fill_mean_func)\n",
    "print(X[[\"Name2\",\"Name\",\"Age\"]].head(10))"
   ]
  },
  {
   "cell_type": "code",
   "execution_count": 12,
   "id": "incoming-selection",
   "metadata": {},
   "outputs": [
    {
     "name": "stdout",
     "output_type": "stream",
     "text": [
      "     Age_cate   Age\n",
      "0           2  22.0\n",
      "1           3  38.0\n",
      "2           2  26.0\n",
      "3           3  35.0\n",
      "4           3  35.0\n",
      "..        ...   ...\n",
      "886         2  27.0\n",
      "887         1  19.0\n",
      "888         2  21.0\n",
      "889         2  26.0\n",
      "890         3  32.0\n",
      "\n",
      "[891 rows x 2 columns]\n",
      "Pclass    1                                  ...  3                          \\\n",
      "Sex       0                         1        ...  0      1                    \n",
      "Age_cate  0   1   2   3   4   5  6  0  1  2  ...  4  6   0   1   2    3   4   \n",
      "Survived                                     ...                              \n",
      "0         1   0   1   0   0   1  0  0  3  9  ...  9  0  15  38  86  128  23   \n",
      "1         0  13  16  35  13  11  3  2  2  9  ...  0  1  10   4  16   15   2   \n",
      "\n",
      "Pclass             \n",
      "Sex                \n",
      "Age_cate  5  6  7  \n",
      "Survived           \n",
      "0         6  2  2  \n",
      "1         0  0  0  \n",
      "\n",
      "[2 rows x 44 columns]\n"
     ]
    }
   ],
   "source": [
    "# 11 12 13 --> 10\n",
    "# 22 23 24 --> 20\n",
    "#나이 구간화    /(나누기) %(나머지) //(몫)\n",
    "\n",
    "X['Age_cate'] = X['Age'].apply(lambda x : int(x//10))\n",
    "print(X[['Age_cate', 'Age']])\n",
    "print(pd.crosstab([X['Pclass'], X['Sex'], X['Age_cate']], y).T)"
   ]
  },
  {
   "cell_type": "code",
   "execution_count": 13,
   "id": "intended-monroe",
   "metadata": {},
   "outputs": [
    {
     "name": "stdout",
     "output_type": "stream",
     "text": [
      "Embarked   1   2    3\n",
      "Survived             \n",
      "0         75  47  427\n",
      "1         93  30  219\n",
      "Embarked   1         2          3         \n",
      "Pclass     1  2   3  1  2   3   1   2    3\n",
      "Survived                                  \n",
      "0         26  8  41  1  1  45  53  88  286\n",
      "1         59  9  25  1  2  27  76  76   67\n"
     ]
    }
   ],
   "source": [
    "print(pd.crosstab(X['Embarked'], y).T)\n",
    "print(pd.crosstab([X['Embarked'], X['Pclass']], y).T)"
   ]
  },
  {
   "cell_type": "markdown",
   "id": "typical-beast",
   "metadata": {},
   "source": [
    "* 선착장 위치(Embarked)보단 객실 등급(Pclass)이 영향을 많이 준다."
   ]
  },
  {
   "cell_type": "code",
   "execution_count": 15,
   "id": "waiting-grounds",
   "metadata": {},
   "outputs": [
    {
     "name": "stdout",
     "output_type": "stream",
     "text": [
      "     SP  SibSp  Parch\n",
      "0     1      1      0\n",
      "1     1      1      0\n",
      "2     0      0      0\n",
      "3     1      1      0\n",
      "4     0      0      0\n",
      "..   ..    ...    ...\n",
      "886   0      0      0\n",
      "887   0      0      0\n",
      "888   3      1      2\n",
      "889   0      0      0\n",
      "890   0      0      0\n",
      "\n",
      "[891 rows x 3 columns]\n"
     ]
    }
   ],
   "source": [
    "# 병합 피쳐 : 중복된특징,\n",
    "#  6   SibSp        891 non-null    int64\n",
    "#  7   Parch        891 non-null    int64\n",
    "\n",
    "X[\"SP\"] = X[\"SibSp\"] + X[\"Parch\"]\n",
    "print(X[[\"SP\", \"SibSp\", \"Parch\"]])"
   ]
  },
  {
   "cell_type": "code",
   "execution_count": 16,
   "id": "actual-assessment",
   "metadata": {},
   "outputs": [
    {
     "ename": "KeyboardInterrupt",
     "evalue": "",
     "output_type": "error",
     "traceback": [
      "\u001b[1;31m---------------------------------------------------------------------------\u001b[0m",
      "\u001b[1;31mKeyboardInterrupt\u001b[0m                         Traceback (most recent call last)",
      "\u001b[1;32m<ipython-input-16-d27717378c12>\u001b[0m in \u001b[0;36m<module>\u001b[1;34m\u001b[0m\n\u001b[0;32m      8\u001b[0m     \u001b[0mc\u001b[0m \u001b[1;33m=\u001b[0m \u001b[0mi\u001b[0m \u001b[1;33m%\u001b[0m \u001b[1;36m5\u001b[0m\u001b[1;33m\u001b[0m\u001b[1;33m\u001b[0m\u001b[0m\n\u001b[0;32m      9\u001b[0m     \u001b[0msns\u001b[0m\u001b[1;33m.\u001b[0m\u001b[0mboxplot\u001b[0m\u001b[1;33m(\u001b[0m\u001b[0mx\u001b[0m\u001b[1;33m=\u001b[0m\u001b[0mcol\u001b[0m\u001b[1;33m,\u001b[0m \u001b[0my\u001b[0m\u001b[1;33m=\u001b[0m\u001b[1;34m'Survived'\u001b[0m\u001b[1;33m,\u001b[0m \u001b[0mdata\u001b[0m\u001b[1;33m=\u001b[0m\u001b[0mdf\u001b[0m\u001b[1;33m,\u001b[0m \u001b[0max\u001b[0m\u001b[1;33m=\u001b[0m\u001b[0maxes\u001b[0m\u001b[1;33m[\u001b[0m\u001b[0mr\u001b[0m\u001b[1;33m]\u001b[0m\u001b[1;33m[\u001b[0m\u001b[0mc\u001b[0m\u001b[1;33m]\u001b[0m\u001b[1;33m)\u001b[0m\u001b[1;33m\u001b[0m\u001b[1;33m\u001b[0m\u001b[0m\n\u001b[1;32m---> 10\u001b[1;33m \u001b[0mplt\u001b[0m\u001b[1;33m.\u001b[0m\u001b[0mshow\u001b[0m\u001b[1;33m(\u001b[0m\u001b[1;33m)\u001b[0m\u001b[1;33m\u001b[0m\u001b[1;33m\u001b[0m\u001b[0m\n\u001b[0m",
      "\u001b[1;32mc:\\it\\workspace_python\\venv\\lib\\site-packages\\matplotlib\\pyplot.py\u001b[0m in \u001b[0;36mshow\u001b[1;34m(*args, **kwargs)\u001b[0m\n\u001b[0;32m    351\u001b[0m     \"\"\"\n\u001b[0;32m    352\u001b[0m     \u001b[0m_warn_if_gui_out_of_main_thread\u001b[0m\u001b[1;33m(\u001b[0m\u001b[1;33m)\u001b[0m\u001b[1;33m\u001b[0m\u001b[1;33m\u001b[0m\u001b[0m\n\u001b[1;32m--> 353\u001b[1;33m     \u001b[1;32mreturn\u001b[0m \u001b[0m_backend_mod\u001b[0m\u001b[1;33m.\u001b[0m\u001b[0mshow\u001b[0m\u001b[1;33m(\u001b[0m\u001b[1;33m*\u001b[0m\u001b[0margs\u001b[0m\u001b[1;33m,\u001b[0m \u001b[1;33m**\u001b[0m\u001b[0mkwargs\u001b[0m\u001b[1;33m)\u001b[0m\u001b[1;33m\u001b[0m\u001b[1;33m\u001b[0m\u001b[0m\n\u001b[0m\u001b[0;32m    354\u001b[0m \u001b[1;33m\u001b[0m\u001b[0m\n\u001b[0;32m    355\u001b[0m \u001b[1;33m\u001b[0m\u001b[0m\n",
      "\u001b[1;32mc:\\it\\workspace_python\\venv\\lib\\site-packages\\ipykernel\\pylab\\backend_inline.py\u001b[0m in \u001b[0;36mshow\u001b[1;34m(close, block)\u001b[0m\n\u001b[0;32m     37\u001b[0m     \u001b[1;32mtry\u001b[0m\u001b[1;33m:\u001b[0m\u001b[1;33m\u001b[0m\u001b[1;33m\u001b[0m\u001b[0m\n\u001b[0;32m     38\u001b[0m         \u001b[1;32mfor\u001b[0m \u001b[0mfigure_manager\u001b[0m \u001b[1;32min\u001b[0m \u001b[0mGcf\u001b[0m\u001b[1;33m.\u001b[0m\u001b[0mget_all_fig_managers\u001b[0m\u001b[1;33m(\u001b[0m\u001b[1;33m)\u001b[0m\u001b[1;33m:\u001b[0m\u001b[1;33m\u001b[0m\u001b[1;33m\u001b[0m\u001b[0m\n\u001b[1;32m---> 39\u001b[1;33m             display(\n\u001b[0m\u001b[0;32m     40\u001b[0m                 \u001b[0mfigure_manager\u001b[0m\u001b[1;33m.\u001b[0m\u001b[0mcanvas\u001b[0m\u001b[1;33m.\u001b[0m\u001b[0mfigure\u001b[0m\u001b[1;33m,\u001b[0m\u001b[1;33m\u001b[0m\u001b[1;33m\u001b[0m\u001b[0m\n\u001b[0;32m     41\u001b[0m                 \u001b[0mmetadata\u001b[0m\u001b[1;33m=\u001b[0m\u001b[0m_fetch_figure_metadata\u001b[0m\u001b[1;33m(\u001b[0m\u001b[0mfigure_manager\u001b[0m\u001b[1;33m.\u001b[0m\u001b[0mcanvas\u001b[0m\u001b[1;33m.\u001b[0m\u001b[0mfigure\u001b[0m\u001b[1;33m)\u001b[0m\u001b[1;33m\u001b[0m\u001b[1;33m\u001b[0m\u001b[0m\n",
      "\u001b[1;32mc:\\it\\workspace_python\\venv\\lib\\site-packages\\IPython\\core\\display.py\u001b[0m in \u001b[0;36mdisplay\u001b[1;34m(include, exclude, metadata, transient, display_id, *objs, **kwargs)\u001b[0m\n\u001b[0;32m    311\u001b[0m             \u001b[0mpublish_display_data\u001b[0m\u001b[1;33m(\u001b[0m\u001b[0mdata\u001b[0m\u001b[1;33m=\u001b[0m\u001b[0mobj\u001b[0m\u001b[1;33m,\u001b[0m \u001b[0mmetadata\u001b[0m\u001b[1;33m=\u001b[0m\u001b[0mmetadata\u001b[0m\u001b[1;33m,\u001b[0m \u001b[1;33m**\u001b[0m\u001b[0mkwargs\u001b[0m\u001b[1;33m)\u001b[0m\u001b[1;33m\u001b[0m\u001b[1;33m\u001b[0m\u001b[0m\n\u001b[0;32m    312\u001b[0m         \u001b[1;32melse\u001b[0m\u001b[1;33m:\u001b[0m\u001b[1;33m\u001b[0m\u001b[1;33m\u001b[0m\u001b[0m\n\u001b[1;32m--> 313\u001b[1;33m             \u001b[0mformat_dict\u001b[0m\u001b[1;33m,\u001b[0m \u001b[0mmd_dict\u001b[0m \u001b[1;33m=\u001b[0m \u001b[0mformat\u001b[0m\u001b[1;33m(\u001b[0m\u001b[0mobj\u001b[0m\u001b[1;33m,\u001b[0m \u001b[0minclude\u001b[0m\u001b[1;33m=\u001b[0m\u001b[0minclude\u001b[0m\u001b[1;33m,\u001b[0m \u001b[0mexclude\u001b[0m\u001b[1;33m=\u001b[0m\u001b[0mexclude\u001b[0m\u001b[1;33m)\u001b[0m\u001b[1;33m\u001b[0m\u001b[1;33m\u001b[0m\u001b[0m\n\u001b[0m\u001b[0;32m    314\u001b[0m             \u001b[1;32mif\u001b[0m \u001b[1;32mnot\u001b[0m \u001b[0mformat_dict\u001b[0m\u001b[1;33m:\u001b[0m\u001b[1;33m\u001b[0m\u001b[1;33m\u001b[0m\u001b[0m\n\u001b[0;32m    315\u001b[0m                 \u001b[1;31m# nothing to display (e.g. _ipython_display_ took over)\u001b[0m\u001b[1;33m\u001b[0m\u001b[1;33m\u001b[0m\u001b[1;33m\u001b[0m\u001b[0m\n",
      "\u001b[1;32mc:\\it\\workspace_python\\venv\\lib\\site-packages\\IPython\\core\\formatters.py\u001b[0m in \u001b[0;36mformat\u001b[1;34m(self, obj, include, exclude)\u001b[0m\n\u001b[0;32m    178\u001b[0m             \u001b[0mmd\u001b[0m \u001b[1;33m=\u001b[0m \u001b[1;32mNone\u001b[0m\u001b[1;33m\u001b[0m\u001b[1;33m\u001b[0m\u001b[0m\n\u001b[0;32m    179\u001b[0m             \u001b[1;32mtry\u001b[0m\u001b[1;33m:\u001b[0m\u001b[1;33m\u001b[0m\u001b[1;33m\u001b[0m\u001b[0m\n\u001b[1;32m--> 180\u001b[1;33m                 \u001b[0mdata\u001b[0m \u001b[1;33m=\u001b[0m \u001b[0mformatter\u001b[0m\u001b[1;33m(\u001b[0m\u001b[0mobj\u001b[0m\u001b[1;33m)\u001b[0m\u001b[1;33m\u001b[0m\u001b[1;33m\u001b[0m\u001b[0m\n\u001b[0m\u001b[0;32m    181\u001b[0m             \u001b[1;32mexcept\u001b[0m\u001b[1;33m:\u001b[0m\u001b[1;33m\u001b[0m\u001b[1;33m\u001b[0m\u001b[0m\n\u001b[0;32m    182\u001b[0m                 \u001b[1;31m# FIXME: log the exception\u001b[0m\u001b[1;33m\u001b[0m\u001b[1;33m\u001b[0m\u001b[1;33m\u001b[0m\u001b[0m\n",
      "\u001b[1;32m<decorator-gen-2>\u001b[0m in \u001b[0;36m__call__\u001b[1;34m(self, obj)\u001b[0m\n",
      "\u001b[1;32mc:\\it\\workspace_python\\venv\\lib\\site-packages\\IPython\\core\\formatters.py\u001b[0m in \u001b[0;36mcatch_format_error\u001b[1;34m(method, self, *args, **kwargs)\u001b[0m\n\u001b[0;32m    222\u001b[0m     \u001b[1;34m\"\"\"show traceback on failed format call\"\"\"\u001b[0m\u001b[1;33m\u001b[0m\u001b[1;33m\u001b[0m\u001b[0m\n\u001b[0;32m    223\u001b[0m     \u001b[1;32mtry\u001b[0m\u001b[1;33m:\u001b[0m\u001b[1;33m\u001b[0m\u001b[1;33m\u001b[0m\u001b[0m\n\u001b[1;32m--> 224\u001b[1;33m         \u001b[0mr\u001b[0m \u001b[1;33m=\u001b[0m \u001b[0mmethod\u001b[0m\u001b[1;33m(\u001b[0m\u001b[0mself\u001b[0m\u001b[1;33m,\u001b[0m \u001b[1;33m*\u001b[0m\u001b[0margs\u001b[0m\u001b[1;33m,\u001b[0m \u001b[1;33m**\u001b[0m\u001b[0mkwargs\u001b[0m\u001b[1;33m)\u001b[0m\u001b[1;33m\u001b[0m\u001b[1;33m\u001b[0m\u001b[0m\n\u001b[0m\u001b[0;32m    225\u001b[0m     \u001b[1;32mexcept\u001b[0m \u001b[0mNotImplementedError\u001b[0m\u001b[1;33m:\u001b[0m\u001b[1;33m\u001b[0m\u001b[1;33m\u001b[0m\u001b[0m\n\u001b[0;32m    226\u001b[0m         \u001b[1;31m# don't warn on NotImplementedErrors\u001b[0m\u001b[1;33m\u001b[0m\u001b[1;33m\u001b[0m\u001b[1;33m\u001b[0m\u001b[0m\n",
      "\u001b[1;32mc:\\it\\workspace_python\\venv\\lib\\site-packages\\IPython\\core\\formatters.py\u001b[0m in \u001b[0;36m__call__\u001b[1;34m(self, obj)\u001b[0m\n\u001b[0;32m    339\u001b[0m                 \u001b[1;32mpass\u001b[0m\u001b[1;33m\u001b[0m\u001b[1;33m\u001b[0m\u001b[0m\n\u001b[0;32m    340\u001b[0m             \u001b[1;32melse\u001b[0m\u001b[1;33m:\u001b[0m\u001b[1;33m\u001b[0m\u001b[1;33m\u001b[0m\u001b[0m\n\u001b[1;32m--> 341\u001b[1;33m                 \u001b[1;32mreturn\u001b[0m \u001b[0mprinter\u001b[0m\u001b[1;33m(\u001b[0m\u001b[0mobj\u001b[0m\u001b[1;33m)\u001b[0m\u001b[1;33m\u001b[0m\u001b[1;33m\u001b[0m\u001b[0m\n\u001b[0m\u001b[0;32m    342\u001b[0m             \u001b[1;31m# Finally look for special method names\u001b[0m\u001b[1;33m\u001b[0m\u001b[1;33m\u001b[0m\u001b[1;33m\u001b[0m\u001b[0m\n\u001b[0;32m    343\u001b[0m             \u001b[0mmethod\u001b[0m \u001b[1;33m=\u001b[0m \u001b[0mget_real_method\u001b[0m\u001b[1;33m(\u001b[0m\u001b[0mobj\u001b[0m\u001b[1;33m,\u001b[0m \u001b[0mself\u001b[0m\u001b[1;33m.\u001b[0m\u001b[0mprint_method\u001b[0m\u001b[1;33m)\u001b[0m\u001b[1;33m\u001b[0m\u001b[1;33m\u001b[0m\u001b[0m\n",
      "\u001b[1;32mc:\\it\\workspace_python\\venv\\lib\\site-packages\\IPython\\core\\pylabtools.py\u001b[0m in \u001b[0;36m<lambda>\u001b[1;34m(fig)\u001b[0m\n\u001b[0;32m    246\u001b[0m \u001b[1;33m\u001b[0m\u001b[0m\n\u001b[0;32m    247\u001b[0m     \u001b[1;32mif\u001b[0m \u001b[1;34m'png'\u001b[0m \u001b[1;32min\u001b[0m \u001b[0mformats\u001b[0m\u001b[1;33m:\u001b[0m\u001b[1;33m\u001b[0m\u001b[1;33m\u001b[0m\u001b[0m\n\u001b[1;32m--> 248\u001b[1;33m         \u001b[0mpng_formatter\u001b[0m\u001b[1;33m.\u001b[0m\u001b[0mfor_type\u001b[0m\u001b[1;33m(\u001b[0m\u001b[0mFigure\u001b[0m\u001b[1;33m,\u001b[0m \u001b[1;32mlambda\u001b[0m \u001b[0mfig\u001b[0m\u001b[1;33m:\u001b[0m \u001b[0mprint_figure\u001b[0m\u001b[1;33m(\u001b[0m\u001b[0mfig\u001b[0m\u001b[1;33m,\u001b[0m \u001b[1;34m'png'\u001b[0m\u001b[1;33m,\u001b[0m \u001b[1;33m**\u001b[0m\u001b[0mkwargs\u001b[0m\u001b[1;33m)\u001b[0m\u001b[1;33m)\u001b[0m\u001b[1;33m\u001b[0m\u001b[1;33m\u001b[0m\u001b[0m\n\u001b[0m\u001b[0;32m    249\u001b[0m     \u001b[1;32mif\u001b[0m \u001b[1;34m'retina'\u001b[0m \u001b[1;32min\u001b[0m \u001b[0mformats\u001b[0m \u001b[1;32mor\u001b[0m \u001b[1;34m'png2x'\u001b[0m \u001b[1;32min\u001b[0m \u001b[0mformats\u001b[0m\u001b[1;33m:\u001b[0m\u001b[1;33m\u001b[0m\u001b[1;33m\u001b[0m\u001b[0m\n\u001b[0;32m    250\u001b[0m         \u001b[0mpng_formatter\u001b[0m\u001b[1;33m.\u001b[0m\u001b[0mfor_type\u001b[0m\u001b[1;33m(\u001b[0m\u001b[0mFigure\u001b[0m\u001b[1;33m,\u001b[0m \u001b[1;32mlambda\u001b[0m \u001b[0mfig\u001b[0m\u001b[1;33m:\u001b[0m \u001b[0mretina_figure\u001b[0m\u001b[1;33m(\u001b[0m\u001b[0mfig\u001b[0m\u001b[1;33m,\u001b[0m \u001b[1;33m**\u001b[0m\u001b[0mkwargs\u001b[0m\u001b[1;33m)\u001b[0m\u001b[1;33m)\u001b[0m\u001b[1;33m\u001b[0m\u001b[1;33m\u001b[0m\u001b[0m\n",
      "\u001b[1;32mc:\\it\\workspace_python\\venv\\lib\\site-packages\\IPython\\core\\pylabtools.py\u001b[0m in \u001b[0;36mprint_figure\u001b[1;34m(fig, fmt, bbox_inches, **kwargs)\u001b[0m\n\u001b[0;32m    130\u001b[0m         \u001b[0mFigureCanvasBase\u001b[0m\u001b[1;33m(\u001b[0m\u001b[0mfig\u001b[0m\u001b[1;33m)\u001b[0m\u001b[1;33m\u001b[0m\u001b[1;33m\u001b[0m\u001b[0m\n\u001b[0;32m    131\u001b[0m \u001b[1;33m\u001b[0m\u001b[0m\n\u001b[1;32m--> 132\u001b[1;33m     \u001b[0mfig\u001b[0m\u001b[1;33m.\u001b[0m\u001b[0mcanvas\u001b[0m\u001b[1;33m.\u001b[0m\u001b[0mprint_figure\u001b[0m\u001b[1;33m(\u001b[0m\u001b[0mbytes_io\u001b[0m\u001b[1;33m,\u001b[0m \u001b[1;33m**\u001b[0m\u001b[0mkw\u001b[0m\u001b[1;33m)\u001b[0m\u001b[1;33m\u001b[0m\u001b[1;33m\u001b[0m\u001b[0m\n\u001b[0m\u001b[0;32m    133\u001b[0m     \u001b[0mdata\u001b[0m \u001b[1;33m=\u001b[0m \u001b[0mbytes_io\u001b[0m\u001b[1;33m.\u001b[0m\u001b[0mgetvalue\u001b[0m\u001b[1;33m(\u001b[0m\u001b[1;33m)\u001b[0m\u001b[1;33m\u001b[0m\u001b[1;33m\u001b[0m\u001b[0m\n\u001b[0;32m    134\u001b[0m     \u001b[1;32mif\u001b[0m \u001b[0mfmt\u001b[0m \u001b[1;33m==\u001b[0m \u001b[1;34m'svg'\u001b[0m\u001b[1;33m:\u001b[0m\u001b[1;33m\u001b[0m\u001b[1;33m\u001b[0m\u001b[0m\n",
      "\u001b[1;32mc:\\it\\workspace_python\\venv\\lib\\site-packages\\matplotlib\\backend_bases.py\u001b[0m in \u001b[0;36mprint_figure\u001b[1;34m(self, filename, dpi, facecolor, edgecolor, orientation, format, bbox_inches, pad_inches, bbox_extra_artists, backend, **kwargs)\u001b[0m\n\u001b[0;32m   2193\u001b[0m                         \u001b[0mself\u001b[0m\u001b[1;33m.\u001b[0m\u001b[0mfigure\u001b[0m\u001b[1;33m.\u001b[0m\u001b[0mdraw\u001b[0m\u001b[1;33m(\u001b[0m\u001b[0mrenderer\u001b[0m\u001b[1;33m)\u001b[0m\u001b[1;33m\u001b[0m\u001b[1;33m\u001b[0m\u001b[0m\n\u001b[0;32m   2194\u001b[0m \u001b[1;33m\u001b[0m\u001b[0m\n\u001b[1;32m-> 2195\u001b[1;33m                     bbox_inches = self.figure.get_tightbbox(\n\u001b[0m\u001b[0;32m   2196\u001b[0m                         renderer, bbox_extra_artists=bbox_extra_artists)\n\u001b[0;32m   2197\u001b[0m                     \u001b[1;32mif\u001b[0m \u001b[0mpad_inches\u001b[0m \u001b[1;32mis\u001b[0m \u001b[1;32mNone\u001b[0m\u001b[1;33m:\u001b[0m\u001b[1;33m\u001b[0m\u001b[1;33m\u001b[0m\u001b[0m\n",
      "\u001b[1;32mc:\\it\\workspace_python\\venv\\lib\\site-packages\\matplotlib\\figure.py\u001b[0m in \u001b[0;36mget_tightbbox\u001b[1;34m(self, renderer, bbox_extra_artists)\u001b[0m\n\u001b[0;32m   2504\u001b[0m \u001b[1;33m\u001b[0m\u001b[0m\n\u001b[0;32m   2505\u001b[0m         \u001b[1;32mfor\u001b[0m \u001b[0ma\u001b[0m \u001b[1;32min\u001b[0m \u001b[0martists\u001b[0m\u001b[1;33m:\u001b[0m\u001b[1;33m\u001b[0m\u001b[1;33m\u001b[0m\u001b[0m\n\u001b[1;32m-> 2506\u001b[1;33m             \u001b[0mbbox\u001b[0m \u001b[1;33m=\u001b[0m \u001b[0ma\u001b[0m\u001b[1;33m.\u001b[0m\u001b[0mget_tightbbox\u001b[0m\u001b[1;33m(\u001b[0m\u001b[0mrenderer\u001b[0m\u001b[1;33m)\u001b[0m\u001b[1;33m\u001b[0m\u001b[1;33m\u001b[0m\u001b[0m\n\u001b[0m\u001b[0;32m   2507\u001b[0m             \u001b[1;32mif\u001b[0m \u001b[0mbbox\u001b[0m \u001b[1;32mis\u001b[0m \u001b[1;32mnot\u001b[0m \u001b[1;32mNone\u001b[0m \u001b[1;32mand\u001b[0m \u001b[1;33m(\u001b[0m\u001b[0mbbox\u001b[0m\u001b[1;33m.\u001b[0m\u001b[0mwidth\u001b[0m \u001b[1;33m!=\u001b[0m \u001b[1;36m0\u001b[0m \u001b[1;32mor\u001b[0m \u001b[0mbbox\u001b[0m\u001b[1;33m.\u001b[0m\u001b[0mheight\u001b[0m \u001b[1;33m!=\u001b[0m \u001b[1;36m0\u001b[0m\u001b[1;33m)\u001b[0m\u001b[1;33m:\u001b[0m\u001b[1;33m\u001b[0m\u001b[1;33m\u001b[0m\u001b[0m\n\u001b[0;32m   2508\u001b[0m                 \u001b[0mbb\u001b[0m\u001b[1;33m.\u001b[0m\u001b[0mappend\u001b[0m\u001b[1;33m(\u001b[0m\u001b[0mbbox\u001b[0m\u001b[1;33m)\u001b[0m\u001b[1;33m\u001b[0m\u001b[1;33m\u001b[0m\u001b[0m\n",
      "\u001b[1;32mc:\\it\\workspace_python\\venv\\lib\\site-packages\\matplotlib\\artist.py\u001b[0m in \u001b[0;36mget_tightbbox\u001b[1;34m(self, renderer)\u001b[0m\n\u001b[0;32m    276\u001b[0m             \u001b[0mThe\u001b[0m \u001b[0menclosing\u001b[0m \u001b[0mbounding\u001b[0m \u001b[0mbox\u001b[0m \u001b[1;33m(\u001b[0m\u001b[1;32min\u001b[0m \u001b[0mfigure\u001b[0m \u001b[0mpixel\u001b[0m \u001b[0mcoordinates\u001b[0m\u001b[1;33m)\u001b[0m\u001b[1;33m.\u001b[0m\u001b[1;33m\u001b[0m\u001b[1;33m\u001b[0m\u001b[0m\n\u001b[0;32m    277\u001b[0m         \"\"\"\n\u001b[1;32m--> 278\u001b[1;33m         \u001b[0mbbox\u001b[0m \u001b[1;33m=\u001b[0m \u001b[0mself\u001b[0m\u001b[1;33m.\u001b[0m\u001b[0mget_window_extent\u001b[0m\u001b[1;33m(\u001b[0m\u001b[0mrenderer\u001b[0m\u001b[1;33m)\u001b[0m\u001b[1;33m\u001b[0m\u001b[1;33m\u001b[0m\u001b[0m\n\u001b[0m\u001b[0;32m    279\u001b[0m         \u001b[1;32mif\u001b[0m \u001b[0mself\u001b[0m\u001b[1;33m.\u001b[0m\u001b[0mget_clip_on\u001b[0m\u001b[1;33m(\u001b[0m\u001b[1;33m)\u001b[0m\u001b[1;33m:\u001b[0m\u001b[1;33m\u001b[0m\u001b[1;33m\u001b[0m\u001b[0m\n\u001b[0;32m    280\u001b[0m             \u001b[0mclip_box\u001b[0m \u001b[1;33m=\u001b[0m \u001b[0mself\u001b[0m\u001b[1;33m.\u001b[0m\u001b[0mget_clip_box\u001b[0m\u001b[1;33m(\u001b[0m\u001b[1;33m)\u001b[0m\u001b[1;33m\u001b[0m\u001b[1;33m\u001b[0m\u001b[0m\n",
      "\u001b[1;32mc:\\it\\workspace_python\\venv\\lib\\site-packages\\matplotlib\\lines.py\u001b[0m in \u001b[0;36mget_window_extent\u001b[1;34m(self, renderer)\u001b[0m\n\u001b[0;32m    608\u001b[0m         \u001b[0mbbox\u001b[0m \u001b[1;33m=\u001b[0m \u001b[0mBbox\u001b[0m\u001b[1;33m(\u001b[0m\u001b[1;33m[\u001b[0m\u001b[1;33m[\u001b[0m\u001b[1;36m0\u001b[0m\u001b[1;33m,\u001b[0m \u001b[1;36m0\u001b[0m\u001b[1;33m]\u001b[0m\u001b[1;33m,\u001b[0m \u001b[1;33m[\u001b[0m\u001b[1;36m0\u001b[0m\u001b[1;33m,\u001b[0m \u001b[1;36m0\u001b[0m\u001b[1;33m]\u001b[0m\u001b[1;33m]\u001b[0m\u001b[1;33m)\u001b[0m\u001b[1;33m\u001b[0m\u001b[1;33m\u001b[0m\u001b[0m\n\u001b[0;32m    609\u001b[0m         \u001b[0mtrans_data_to_xy\u001b[0m \u001b[1;33m=\u001b[0m \u001b[0mself\u001b[0m\u001b[1;33m.\u001b[0m\u001b[0mget_transform\u001b[0m\u001b[1;33m(\u001b[0m\u001b[1;33m)\u001b[0m\u001b[1;33m.\u001b[0m\u001b[0mtransform\u001b[0m\u001b[1;33m\u001b[0m\u001b[1;33m\u001b[0m\u001b[0m\n\u001b[1;32m--> 610\u001b[1;33m         bbox.update_from_data_xy(trans_data_to_xy(self.get_xydata()),\n\u001b[0m\u001b[0;32m    611\u001b[0m                                  ignore=True)\n\u001b[0;32m    612\u001b[0m         \u001b[1;31m# correct for marker size, if any\u001b[0m\u001b[1;33m\u001b[0m\u001b[1;33m\u001b[0m\u001b[1;33m\u001b[0m\u001b[0m\n",
      "\u001b[1;32mc:\\it\\workspace_python\\venv\\lib\\site-packages\\matplotlib\\transforms.py\u001b[0m in \u001b[0;36mtransform\u001b[1;34m(self, values)\u001b[0m\n\u001b[0;32m   1420\u001b[0m \u001b[1;33m\u001b[0m\u001b[0m\n\u001b[0;32m   1421\u001b[0m         \u001b[1;31m# Transform the values\u001b[0m\u001b[1;33m\u001b[0m\u001b[1;33m\u001b[0m\u001b[1;33m\u001b[0m\u001b[0m\n\u001b[1;32m-> 1422\u001b[1;33m         \u001b[0mres\u001b[0m \u001b[1;33m=\u001b[0m \u001b[0mself\u001b[0m\u001b[1;33m.\u001b[0m\u001b[0mtransform_affine\u001b[0m\u001b[1;33m(\u001b[0m\u001b[0mself\u001b[0m\u001b[1;33m.\u001b[0m\u001b[0mtransform_non_affine\u001b[0m\u001b[1;33m(\u001b[0m\u001b[0mvalues\u001b[0m\u001b[1;33m)\u001b[0m\u001b[1;33m)\u001b[0m\u001b[1;33m\u001b[0m\u001b[1;33m\u001b[0m\u001b[0m\n\u001b[0m\u001b[0;32m   1423\u001b[0m \u001b[1;33m\u001b[0m\u001b[0m\n\u001b[0;32m   1424\u001b[0m         \u001b[1;31m# Convert the result back to the shape of the input values.\u001b[0m\u001b[1;33m\u001b[0m\u001b[1;33m\u001b[0m\u001b[1;33m\u001b[0m\u001b[0m\n",
      "\u001b[1;32mc:\\it\\workspace_python\\venv\\lib\\site-packages\\matplotlib\\transforms.py\u001b[0m in \u001b[0;36mtransform_affine\u001b[1;34m(self, points)\u001b[0m\n\u001b[0;32m   2342\u001b[0m     \u001b[1;32mdef\u001b[0m \u001b[0mtransform_affine\u001b[0m\u001b[1;33m(\u001b[0m\u001b[0mself\u001b[0m\u001b[1;33m,\u001b[0m \u001b[0mpoints\u001b[0m\u001b[1;33m)\u001b[0m\u001b[1;33m:\u001b[0m\u001b[1;33m\u001b[0m\u001b[1;33m\u001b[0m\u001b[0m\n\u001b[0;32m   2343\u001b[0m         \u001b[1;31m# docstring inherited\u001b[0m\u001b[1;33m\u001b[0m\u001b[1;33m\u001b[0m\u001b[1;33m\u001b[0m\u001b[0m\n\u001b[1;32m-> 2344\u001b[1;33m         \u001b[1;32mreturn\u001b[0m \u001b[0mself\u001b[0m\u001b[1;33m.\u001b[0m\u001b[0mget_affine\u001b[0m\u001b[1;33m(\u001b[0m\u001b[1;33m)\u001b[0m\u001b[1;33m.\u001b[0m\u001b[0mtransform\u001b[0m\u001b[1;33m(\u001b[0m\u001b[0mpoints\u001b[0m\u001b[1;33m)\u001b[0m\u001b[1;33m\u001b[0m\u001b[1;33m\u001b[0m\u001b[0m\n\u001b[0m\u001b[0;32m   2345\u001b[0m \u001b[1;33m\u001b[0m\u001b[0m\n\u001b[0;32m   2346\u001b[0m     \u001b[1;32mdef\u001b[0m \u001b[0mtransform_non_affine\u001b[0m\u001b[1;33m(\u001b[0m\u001b[0mself\u001b[0m\u001b[1;33m,\u001b[0m \u001b[0mpoints\u001b[0m\u001b[1;33m)\u001b[0m\u001b[1;33m:\u001b[0m\u001b[1;33m\u001b[0m\u001b[1;33m\u001b[0m\u001b[0m\n",
      "\u001b[1;32mc:\\it\\workspace_python\\venv\\lib\\site-packages\\matplotlib\\transforms.py\u001b[0m in \u001b[0;36mget_affine\u001b[1;34m(self)\u001b[0m\n\u001b[0;32m   2369\u001b[0m             \u001b[1;32mreturn\u001b[0m \u001b[0mself\u001b[0m\u001b[1;33m.\u001b[0m\u001b[0m_b\u001b[0m\u001b[1;33m.\u001b[0m\u001b[0mget_affine\u001b[0m\u001b[1;33m(\u001b[0m\u001b[1;33m)\u001b[0m\u001b[1;33m\u001b[0m\u001b[1;33m\u001b[0m\u001b[0m\n\u001b[0;32m   2370\u001b[0m         \u001b[1;32melse\u001b[0m\u001b[1;33m:\u001b[0m\u001b[1;33m\u001b[0m\u001b[1;33m\u001b[0m\u001b[0m\n\u001b[1;32m-> 2371\u001b[1;33m             return Affine2D(np.dot(self._b.get_affine().get_matrix(),\n\u001b[0m\u001b[0;32m   2372\u001b[0m                                    self._a.get_affine().get_matrix()))\n\u001b[0;32m   2373\u001b[0m \u001b[1;33m\u001b[0m\u001b[0m\n",
      "\u001b[1;32mc:\\it\\workspace_python\\venv\\lib\\site-packages\\matplotlib\\transforms.py\u001b[0m in \u001b[0;36m__init__\u001b[1;34m(self, matrix, **kwargs)\u001b[0m\n\u001b[0;32m   1844\u001b[0m             \u001b[1;31m# A bit faster than np.identity(3).\u001b[0m\u001b[1;33m\u001b[0m\u001b[1;33m\u001b[0m\u001b[1;33m\u001b[0m\u001b[0m\n\u001b[0;32m   1845\u001b[0m             \u001b[0mmatrix\u001b[0m \u001b[1;33m=\u001b[0m \u001b[0mIdentityTransform\u001b[0m\u001b[1;33m.\u001b[0m\u001b[0m_mtx\u001b[0m\u001b[1;33m.\u001b[0m\u001b[0mcopy\u001b[0m\u001b[1;33m(\u001b[0m\u001b[1;33m)\u001b[0m\u001b[1;33m\u001b[0m\u001b[1;33m\u001b[0m\u001b[0m\n\u001b[1;32m-> 1846\u001b[1;33m         \u001b[0mself\u001b[0m\u001b[1;33m.\u001b[0m\u001b[0m_mtx\u001b[0m \u001b[1;33m=\u001b[0m \u001b[0mmatrix\u001b[0m\u001b[1;33m.\u001b[0m\u001b[0mcopy\u001b[0m\u001b[1;33m(\u001b[0m\u001b[1;33m)\u001b[0m\u001b[1;33m\u001b[0m\u001b[1;33m\u001b[0m\u001b[0m\n\u001b[0m\u001b[0;32m   1847\u001b[0m         \u001b[0mself\u001b[0m\u001b[1;33m.\u001b[0m\u001b[0m_invalid\u001b[0m \u001b[1;33m=\u001b[0m \u001b[1;36m0\u001b[0m\u001b[1;33m\u001b[0m\u001b[1;33m\u001b[0m\u001b[0m\n\u001b[0;32m   1848\u001b[0m \u001b[1;33m\u001b[0m\u001b[0m\n",
      "\u001b[1;31mKeyboardInterrupt\u001b[0m: "
     ]
    }
   ],
   "source": [
    "# -------------------------------------\n",
    "# 4-1. box plot , scatter plot\n",
    "# -------------------------------------\n",
    "fig, axes = plt.subplots(nrows=3, ncols=5)\n",
    "columns = df.columns  #[....]\n",
    "for i, col in enumerate(columns) :\n",
    "    r = int(i / 5)\n",
    "    c = i % 5\n",
    "    sns.boxplot(x=col, y='Survived', data=df, ax=axes[r][c])\n",
    "#plt.show()"
   ]
  },
  {
   "cell_type": "code",
   "execution_count": 17,
   "id": "blind-going",
   "metadata": {},
   "outputs": [
    {
     "name": "stdout",
     "output_type": "stream",
     "text": [
      "PassengerId Int64Index([], dtype='int64')\n",
      "Survived Int64Index([], dtype='int64')\n",
      "Pclass Int64Index([], dtype='int64')\n",
      "Age Int64Index([], dtype='int64')\n",
      "SibSp Int64Index([  7,  16,  24,  27,  50,  59,  63,  68,  71,  85,  88, 119, 159,\n",
      "            164, 171, 176, 180, 182, 201, 229, 233, 261, 266, 278, 324, 341,\n",
      "            374, 386, 409, 480, 485, 541, 542, 634, 642, 683, 686, 726, 787,\n",
      "            792, 813, 819, 824, 846, 850, 863],\n",
      "           dtype='int64')\n",
      "Parch Int64Index([  7,   8,  10,  13,  16,  24,  25,  27,  43,  50,\n",
      "            ...\n",
      "            855, 856, 858, 863, 869, 871, 879, 880, 885, 888],\n",
      "           dtype='int64', length=213)\n",
      "Fare Int64Index([  1,  27,  31,  34,  52,  61,  62,  72,  88, 102,\n",
      "            ...\n",
      "            792, 802, 820, 829, 835, 846, 849, 856, 863, 879],\n",
      "           dtype='int64', length=116)\n"
     ]
    }
   ],
   "source": [
    "# -------------------------------------\n",
    "# 4-2. IQR : 25%~75% 범위 값\n",
    "# -------------------------------------\n",
    "def get_outlier(df=None, column=None):\n",
    "    # target 값과 상관관계가 높은 열을 우선적으로 진행\n",
    "    Q1 = np.percentile(df[column].values, 25)\n",
    "    Q3 = np.percentile(df[column].values, 75)\n",
    "    IQR = Q3 - Q1\n",
    "    IQR_weight = IQR * 1.5\n",
    "    minimum = Q1 - IQR_weight\n",
    "    maximum = Q3 + IQR_weight\n",
    "    outlier_idx = df[column][  (df[column]<minimum) | (df[column]>maximum)  ].index\n",
    "    return outlier_idx\n",
    "\n",
    "# 함수 사용해서 이상치 값 삭제\n",
    "numeric_columns = df.dtypes[df.dtypes != 'object'].index\n",
    "for i, col in enumerate(numeric_columns):\n",
    "    outlier_idx = get_outlier(df=df, column=col)\n",
    "    print(col, outlier_idx)\n",
    "    #df.drop(outlier_idx, axis=0, inplace=True)"
   ]
  },
  {
   "cell_type": "markdown",
   "id": "genetic-craft",
   "metadata": {},
   "source": [
    "### 3. 불필요한 피쳐 삭제\n",
    "\n",
    "0   PassengerId  891 non-null    int64"
   ]
  },
  {
   "cell_type": "markdown",
   "id": "committed-recognition",
   "metadata": {},
   "source": [
    "* ticket 일련번호라, Cabin은 Null이 많아서 삭제한다.\n",
    "* Fare <--Pclass,SP로 유추 가능 \n",
    "* \"Embarked\"     => 지워도 되고 안 지워도 되고\n",
    "* 기존 삭제 목록들 중 데이터 분석을 통해 \"Ticket\", \"Fare\", \"Cabin\", \"Embarked\" 추가"
   ]
  },
  {
   "cell_type": "code",
   "execution_count": 19,
   "id": "paperback-highland",
   "metadata": {},
   "outputs": [
    {
     "name": "stdout",
     "output_type": "stream",
     "text": [
      "(891, 14)\n",
      "(891, 13)\n",
      "<class 'pandas.core.frame.DataFrame'>\n",
      "Int64Index: 891 entries, 0 to 890\n",
      "Data columns (total 13 columns):\n",
      " #   Column    Non-Null Count  Dtype  \n",
      "---  ------    --------------  -----  \n",
      " 0   Pclass    891 non-null    int64  \n",
      " 1   Name      891 non-null    object \n",
      " 2   Sex       891 non-null    int64  \n",
      " 3   Age       891 non-null    float64\n",
      " 4   SibSp     891 non-null    int64  \n",
      " 5   Parch     891 non-null    int64  \n",
      " 6   Ticket    891 non-null    object \n",
      " 7   Fare      891 non-null    float64\n",
      " 8   Cabin     891 non-null    object \n",
      " 9   Embarked  891 non-null    int64  \n",
      " 10  Name2     891 non-null    object \n",
      " 11  Age_cate  891 non-null    int64  \n",
      " 12  SP        891 non-null    int64  \n",
      "dtypes: float64(2), int64(7), object(4)\n",
      "memory usage: 129.7+ KB\n",
      "None\n",
      "<class 'pandas.core.frame.DataFrame'>\n",
      "Int64Index: 891 entries, 0 to 890\n",
      "Data columns (total 4 columns):\n",
      " #   Column    Non-Null Count  Dtype\n",
      "---  ------    --------------  -----\n",
      " 0   Pclass    891 non-null    int64\n",
      " 1   Sex       891 non-null    int64\n",
      " 2   Age_cate  891 non-null    int64\n",
      " 3   SP        891 non-null    int64\n",
      "dtypes: int64(4)\n",
      "memory usage: 67.1 KB\n",
      "None\n"
     ]
    }
   ],
   "source": [
    "print(X.shape)\n",
    "X.drop(\"PassengerId\", axis=1, inplace=True)\n",
    "print(X.shape)\n",
    "print(X.info())\n",
    "\n",
    "del_col = [\"SibSp\", \"Parch\", \"Name\", \"Name2\", \"Age\"] \n",
    "replace_col = [\"Ticket\", \"Fare\", \"Cabin\", \"Embarked\"]\n",
    "\n",
    "replace_col = replace_col + del_col\n",
    "X.drop(replace_col, axis=1, inplace=True)\n",
    "print(X.info())"
   ]
  },
  {
   "cell_type": "markdown",
   "id": "vulnerable-volleyball",
   "metadata": {},
   "source": [
    "### 4-1. 피쳐 전처리(PreProcessing/Feature Engineering) --> Object 가공\n",
    "  - 라벨인코딩, pd.getDummy()"
   ]
  },
  {
   "cell_type": "code",
   "execution_count": 20,
   "id": "resistant-realtor",
   "metadata": {},
   "outputs": [
    {
     "name": "stdout",
     "output_type": "stream",
     "text": [
      "0    2\n",
      "1    3\n",
      "2    2\n",
      "3    3\n",
      "4    3\n",
      "Name: Age_cate, dtype: int64\n",
      "<class 'pandas.core.frame.DataFrame'>\n",
      "Int64Index: 891 entries, 0 to 890\n",
      "Data columns (total 4 columns):\n",
      " #   Column    Non-Null Count  Dtype\n",
      "---  ------    --------------  -----\n",
      " 0   Pclass    891 non-null    int64\n",
      " 1   Sex       891 non-null    int64\n",
      " 2   Age_cate  891 non-null    int64\n",
      " 3   SP        891 non-null    int64\n",
      "dtypes: int64(4)\n",
      "memory usage: 67.1 KB\n",
      "None\n",
      "<class 'pandas.core.frame.DataFrame'>\n",
      "Int64Index: 891 entries, 0 to 890\n",
      "Data columns (total 12 columns):\n",
      " #   Column         Non-Null Count  Dtype\n",
      "---  ------         --------------  -----\n",
      " 0   Pclass         891 non-null    int64\n",
      " 1   Sex            891 non-null    int64\n",
      " 2   SP             891 non-null    int64\n",
      " 3   OH_Age_cate_0  891 non-null    uint8\n",
      " 4   OH_Age_cate_1  891 non-null    uint8\n",
      " 5   OH_Age_cate_2  891 non-null    uint8\n",
      " 6   OH_Age_cate_3  891 non-null    uint8\n",
      " 7   OH_Age_cate_4  891 non-null    uint8\n",
      " 8   OH_Age_cate_5  891 non-null    uint8\n",
      " 9   OH_Age_cate_6  891 non-null    uint8\n",
      " 10  OH_Age_cate_7  891 non-null    uint8\n",
      " 11  OH_Age_cate_8  891 non-null    uint8\n",
      "dtypes: int64(3), uint8(9)\n",
      "memory usage: 68.0 KB\n",
      "None\n",
      "   Pclass  Sex  SP  OH_Age_cate_0  OH_Age_cate_1  OH_Age_cate_2  \\\n",
      "0       3    1   1              0              0              1   \n",
      "1       1    0   1              0              0              0   \n",
      "2       3    0   0              0              0              1   \n",
      "3       1    0   1              0              0              0   \n",
      "4       3    1   0              0              0              0   \n",
      "\n",
      "   OH_Age_cate_3  OH_Age_cate_4  OH_Age_cate_5  OH_Age_cate_6  OH_Age_cate_7  \\\n",
      "0              0              0              0              0              0   \n",
      "1              1              0              0              0              0   \n",
      "2              0              0              0              0              0   \n",
      "3              1              0              0              0              0   \n",
      "4              1              0              0              0              0   \n",
      "\n",
      "   OH_Age_cate_8  \n",
      "0              0  \n",
      "1              0  \n",
      "2              0  \n",
      "3              0  \n",
      "4              0  \n"
     ]
    }
   ],
   "source": [
    "print(X[\"Age_cate\"].head())\n",
    "print(X.info())\n",
    "\n",
    "X_encoding = pd.get_dummies(data=X, columns=[\"Age_cate\"], prefix = \"OH_Age_cate\")\n",
    "print(X_encoding.info())\n",
    "print(X_encoding.head())"
   ]
  },
  {
   "cell_type": "markdown",
   "id": "colonial-serve",
   "metadata": {},
   "source": [
    "### 4-2. 피쳐 전처리(PreProcessing/Feature Engineering) --> Numeric 가공\n",
    "  - 원핫인코딩(수치형)\n",
    "  - 스케일/정규화 : StandardScaler, MinMaxScaler, RobustScaler"
   ]
  },
  {
   "cell_type": "code",
   "execution_count": 21,
   "id": "listed-buyer",
   "metadata": {},
   "outputs": [
    {
     "data": {
      "text/plain": [
       "array([[<AxesSubplot:title={'center':'PassengerId'}>,\n",
       "        <AxesSubplot:title={'center':'Survived'}>,\n",
       "        <AxesSubplot:title={'center':'Pclass'}>],\n",
       "       [<AxesSubplot:title={'center':'Age'}>,\n",
       "        <AxesSubplot:title={'center':'SibSp'}>,\n",
       "        <AxesSubplot:title={'center':'Parch'}>],\n",
       "       [<AxesSubplot:title={'center':'Fare'}>, <AxesSubplot:>,\n",
       "        <AxesSubplot:>]], dtype=object)"
      ]
     },
     "execution_count": 21,
     "metadata": {},
     "output_type": "execute_result"
    },
    {
     "data": {
      "image/png": "[encoded data removed]",
      "text/plain": [
       "<Figure size 1440x360 with 9 Axes>"
      ]
     },
     "metadata": {
      "needs_background": "light"
     },
     "output_type": "display_data"
    }
   ],
   "source": [
    "df.hist(figsize=(20, 5))\n",
    "#plt.show()"
   ]
  },
  {
   "cell_type": "code",
   "execution_count": 22,
   "id": "annoying-afghanistan",
   "metadata": {},
   "outputs": [
    {
     "name": "stdout",
     "output_type": "stream",
     "text": [
      "<class 'sklearn.tree._classes.DecisionTreeClassifier'>\n",
      "DecisionTreeClassifier() : 0.7821229050279329\n",
      "<class 'sklearn.neighbors._classification.KNeighborsClassifier'>\n",
      "KNeighborsClassifier() : 0.7653631284916201\n",
      "<class 'sklearn.ensemble._forest.RandomForestClassifier'>\n",
      "RandomForestClassifier() : 0.7932960893854749\n"
     ]
    }
   ],
   "source": [
    "scaler = StandardScaler()\n",
    "X_scaler = scaler.fit_transform(X)\n",
    "X_train, X_test, y_train, y_test = train_test_split(X_scaler, y, test_size=0.2, random_state=121, shuffle=True)\n",
    "\n",
    "dt_model = DecisionTreeClassifier()\n",
    "knn_model = KNeighborsClassifier()\n",
    "rf_model = RandomForestClassifier()\n",
    "\n",
    "models = [dt_model, knn_model, rf_model]\n",
    "for model in models :\n",
    "    model.fit(X_train, y_train)\n",
    "    y_pred = model.predict(X_test)\n",
    "    score = accuracy_score(y_test, y_pred) \n",
    "    \n",
    "    print(model.__class__)\n",
    "    print(model.__str__(), \":\" , score)"
   ]
  },
  {
   "cell_type": "markdown",
   "id": "concrete-output",
   "metadata": {},
   "source": [
    "### 5. 분석하기 좋은 데이터가 갖춰진 상태 - 상관분석, feature_importance\n",
    "  - 피쳐간 영향도, 피쳐의 중요도를 확인 할 수 있다."
   ]
  },
  {
   "cell_type": "code",
   "execution_count": 23,
   "id": "delayed-cancellation",
   "metadata": {},
   "outputs": [
    {
     "data": {
      "text/plain": [
       "<AxesSubplot:>"
      ]
     },
     "execution_count": 23,
     "metadata": {},
     "output_type": "execute_result"
    },
    {
     "data": {
      "image/png": "[encoded data removed]",
      "text/plain": [
       "<Figure size 720x720 with 2 Axes>"
      ]
     },
     "metadata": {
      "needs_background": "light"
     },
     "output_type": "display_data"
    }
   ],
   "source": [
    "heat_df = X.copy()\n",
    "heat_df[\"Servvv\"] =y\n",
    "plt.figure(figsize=(10,10))\n",
    "sns.heatmap(data = heat_df.corr(), annot=True, fmt=\".2f\")\n",
    "#plt.show()"
   ]
  },
  {
   "cell_type": "markdown",
   "id": "objective-suspension",
   "metadata": {},
   "source": [
    "### 6. 학습모델 선정 / 학습 / 평가\n",
    "  - 분석 방법 : 회귀, 분류, 군집\n",
    "  - 분석 모델 : RandomForest(), DecisionTreeClassifier() 등등...\n",
    "  - 평가 모형 : f1, accuracy, auc, recall\n",
    "  \n",
    "  - --> 코딩 fit(), predict(), score()"
   ]
  },
  {
   "cell_type": "code",
   "execution_count": 25,
   "id": "conventional-northeast",
   "metadata": {},
   "outputs": [
    {
     "name": "stdout",
     "output_type": "stream",
     "text": [
      "<class 'sklearn.tree._classes.DecisionTreeClassifier'>\n",
      "DecisionTreeClassifier() : 0.7932960893854749\n",
      "<class 'sklearn.neighbors._classification.KNeighborsClassifier'>\n",
      "KNeighborsClassifier() : 0.7541899441340782\n",
      "<class 'sklearn.ensemble._forest.RandomForestClassifier'>\n",
      "RandomForestClassifier() : 0.7988826815642458\n"
     ]
    }
   ],
   "source": [
    "X_train, X_test, y_train, y_test \\\n",
    "    = train_test_split(X, y, test_size=0.2, random_state=121, shuffle=True)\n",
    "\n",
    "models = [dt_model, knn_model, rf_model]\n",
    "\n",
    "for model in models:\n",
    "    model.fit(X_train, y_train)\n",
    "    y_pred = model.predict(X_test)\n",
    "    score = accuracy_score(y_test, y_pred)\n",
    "    \n",
    "    print(model.__class__)\n",
    "    print(model.__str__(), \":\", score)"
   ]
  },
  {
   "cell_type": "markdown",
   "id": "reduced-sense",
   "metadata": {},
   "source": [
    "* DecisionTree, KNeighbors, RandomForest 중에서는 RandomForest의 정확도가 79.9%로 가장 높았다."
   ]
  },
  {
   "cell_type": "markdown",
   "id": "appreciated-utility",
   "metadata": {},
   "source": [
    "### 7-1. 검증1 / 튜닝\n",
    "  - 학습량 증가 : KFold, cross_var_score()\n",
    "  - 학습량 증가 + (파라미터)튜닝 : GridSearchCV()"
   ]
  },
  {
   "cell_type": "code",
   "execution_count": 26,
   "id": "grateful-wound",
   "metadata": {},
   "outputs": [
    {
     "name": "stdout",
     "output_type": "stream",
     "text": [
      "0 : 0.7988826815642458 0.7352941176470588\n",
      "1 : 0.8258426966292135 0.752\n",
      "2 : 0.8202247191011236 0.746031746031746\n",
      "3 : 0.8539325842696629 0.7833333333333332\n",
      "4 : 0.797752808988764 0.76\n",
      "KFold 평균 정확도: 0.819327098110602\n",
      "KFold 평균 F1: 0.7553318394024275\n"
     ]
    }
   ],
   "source": [
    "skf = StratifiedKFold(n_splits=5, shuffle=True,  random_state=121)\n",
    "kf = KFold(n_splits=5, shuffle=True, random_state=121)\n",
    "accuracy_score_list = []\n",
    "f1_score_list = []\n",
    "\n",
    "for i, (idx_train, idx_test) in enumerate(kf.split(X)):\n",
    "    X_train, X_test = X.iloc[idx_train], X.iloc[idx_test]\n",
    "    y_train, y_test = y.iloc[idx_train], y.iloc[idx_test]\n",
    "\n",
    "    rf_model.fit(X_train, y_train)\n",
    "    y_pred = model.predict(X_test)\n",
    "    accuracy = accuracy_score(y_test, y_pred)\n",
    "    f1 = f1_score(y_test, y_pred)\n",
    "\n",
    "    accuracy_score_list.append(accuracy)\n",
    "    f1_score_list.append(f1)\n",
    "    print(i, \":\", accuracy, f1)\n",
    "    \n",
    "print(\"KFold 평균 정확도:\", np.mean(accuracy_score_list))\n",
    "print(\"KFold 평균 F1:\", np.mean(f1_score_list))"
   ]
  },
  {
   "cell_type": "code",
   "execution_count": 27,
   "id": "surprising-hammer",
   "metadata": {},
   "outputs": [
    {
     "name": "stdout",
     "output_type": "stream",
     "text": [
      "cross_val_score 평균 F1: 0.7456262998267382\n"
     ]
    }
   ],
   "source": [
    "#Scoring matrix\n",
    "\n",
    "score_list = cross_val_score(rf_model, X, y, scoring=\"f1\", cv=5, verbose=0)\n",
    "\n",
    "print(\"cross_val_score 평균 F1:\", np.mean(score_list))"
   ]
  },
  {
   "cell_type": "code",
   "execution_count": 28,
   "id": "egyptian-convergence",
   "metadata": {},
   "outputs": [
    {
     "name": "stdout",
     "output_type": "stream",
     "text": [
      "score_list-------> {'fit_time': array([0.36392713, 0.30318952, 0.31619549, 0.30225873, 0.32664156]), 'score_time': array([0.02792478, 0.03491092, 0.0319171 , 0.02992034, 0.03116488]), 'test_acc': array([0.78212291, 0.82022472, 0.82022472, 0.78651685, 0.85393258]), 'test_f1': array([0.71111111, 0.75      , 0.75384615, 0.67241379, 0.8030303 ])}\n",
      "   fit_time  score_time  test_acc   test_f1\n",
      "0  0.363927    0.027925  0.782123  0.711111\n",
      "1  0.303190    0.034911  0.820225  0.750000\n",
      "2  0.316195    0.031917  0.820225  0.753846\n",
      "3  0.302259    0.029920  0.786517  0.672414\n",
      "4  0.326642    0.031165  0.853933  0.803030\n",
      "cross_validation 평균 정확도 :  0.8126043562864854\n",
      "cross_validation 평균 f1 :  0.7380802722182034\n"
     ]
    }
   ],
   "source": [
    "my_score={\"acc\":\"accuracy\", \"f1\":\"f1\"}\n",
    "score_list = cross_validate(rf_model, X, y, scoring=my_score, cv=5, verbose=0)\n",
    "print(\"score_list------->\", score_list)\n",
    "score_df = pd.DataFrame(score_list)\n",
    "print(score_df.head(10))\n",
    "print(\"cross_validation 평균 정확도 : \" , score_df[\"test_acc\"].mean())\n",
    "print(\"cross_validation 평균 f1 : \" , score_df[\"test_f1\"].mean())"
   ]
  },
  {
   "cell_type": "code",
   "execution_count": 32,
   "id": "adequate-lying",
   "metadata": {},
   "outputs": [],
   "source": [
    "#튜닝\n",
    "\n",
    "my_hyper_param = {\n",
    "    \"n_estimators\"      :[300], \n",
    "    \"max_depth\"         :[3,5,7,9],\n",
    "    \"min_samples_leaf\"  :[1,3,5],\n",
    "}"
   ]
  },
  {
   "cell_type": "code",
   "execution_count": 34,
   "id": "remarkable-cooper",
   "metadata": {},
   "outputs": [
    {
     "name": "stdout",
     "output_type": "stream",
     "text": [
      "best_estimator: RandomForestClassifier(max_depth=3, n_estimators=300)\n",
      "best_params: {'max_depth': 3, 'min_samples_leaf': 1, 'n_estimators': 300}\n",
      "best_score: 0.7609986012762373\n"
     ]
    }
   ],
   "source": [
    "gcv_model = GridSearchCV(rf_model, param_grid=my_hyper_param, scoring=\"f1\", refit=True, cv=5, verbose=0)\n",
    "\n",
    "gcv_model.fit(X_train, y_train)\n",
    "\n",
    "print(\"best_estimator:\", gcv_model.best_estimator_)\n",
    "print(\"best_params:\",    gcv_model.best_params_)\n",
    "print(\"best_score:\" ,    gcv_model.best_score_)"
   ]
  },
  {
   "cell_type": "markdown",
   "id": "quantitative-idaho",
   "metadata": {},
   "source": [
    "<튜닝 결과>\n",
    "* 파라미터 튜닝 결과:   \n",
    "    'max_depth': 3,   \n",
    "    'min_samples_leaf': 1,   \n",
    "    'n_estimators': 300   \n",
    "    에서 좋은 결과를 보였다.  \n",
    "    \n",
    "* best_score는 f1: accuracy: "
   ]
  },
  {
   "cell_type": "code",
   "execution_count": 37,
   "id": "married-chick",
   "metadata": {},
   "outputs": [],
   "source": [
    "#### ↓↓↓↓문법 공부용↓↓↓↓"
   ]
  },
  {
   "cell_type": "code",
   "execution_count": null,
   "id": "duplicate-trance",
   "metadata": {},
   "outputs": [],
   "source": [
    "#GridSearchCV로 scoring을 여러개 줄 경우\n",
    "my_score={\"acc\":\"accuracy\", \"f1\":\"f1\"}\n",
    "gcv_model = GridSearchCV(rf_model, param_grid=my_hyper_param, scoring=my_score, refit=\"f1\", cv=5, verbose=0)\n",
    "gcv_model.fit(X_train, y_train)\n",
    "\n",
    "print(\"best_estimator_\", gcv_model.best_estimator_)\n",
    "print(\"best_params_\",    gcv_model.best_params_)\n",
    "print(\"best_score_\" ,    gcv_model.best_score_)\n",
    "\n",
    "#다이렉트로 빼는ver\n",
    "print(\"GridSearchCV 평균 정확도:\" , gcv_model.cv_results_[\"mean_test_acc\"].mean()) #mean_test_(본인의 score 키값)\n",
    "print(\"GridSearchCV 평균 F1:\"    , gcv_model.cv_results_[\"mean_test_f1\"].mean())\n",
    "\n",
    "#데이터 프레임으로 만드는ver\n",
    "gcv_df = pd.DataFrame(gcv_model.cv_results_)\n",
    "print(gcv_df.info())\n",
    "print(\"GridSearchCV 평균 정확도:\" , gcv_df[\"mean_test_acc\"].mean())\n",
    "print(\"GridSearchCV 평균 F1:\"    , gcv_df[\"mean_test_f1\"].mean())"
   ]
  },
  {
   "cell_type": "markdown",
   "id": "significant-chassis",
   "metadata": {},
   "source": [
    "### 7-2. 검증2\n",
    "  - Confusion Matrix, 임계치 조정\n",
    "  - auc-roc curv 곡선\n",
    "  - 분석 모델의 타당성 설명"
   ]
  },
  {
   "cell_type": "markdown",
   "id": "spiritual-universal",
   "metadata": {},
   "source": []
  }
 ],
 "metadata": {
  "kernelspec": {
   "display_name": "Python 3",
   "language": "python",
   "name": "python3"
  },
  "language_info": {
   "codemirror_mode": {
    "name": "ipython",
    "version": 3
   },
   "file_extension": ".py",
   "mimetype": "text/x-python",
   "name": "python",
   "nbconvert_exporter": "python",
   "pygments_lexer": "ipython3",
   "version": "3.8.0"
  }
 },
 "nbformat": 4,
 "nbformat_minor": 5
}
